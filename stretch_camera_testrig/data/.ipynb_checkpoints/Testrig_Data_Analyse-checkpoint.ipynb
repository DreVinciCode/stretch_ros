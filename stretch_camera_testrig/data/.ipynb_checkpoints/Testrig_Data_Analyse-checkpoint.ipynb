{
 "cells": [
  {
   "cell_type": "code",
   "execution_count": 12,
   "metadata": {},
   "outputs": [],
   "source": [
    "import yaml\n",
    "import numpy as np\n",
    "import pandas as pd"
   ]
  },
  {
   "cell_type": "code",
   "execution_count": 13,
   "metadata": {},
   "outputs": [],
   "source": [
    "filename = 'testrig_collected_data_202204271357.yaml'"
   ]
  },
  {
   "cell_type": "code",
   "execution_count": 17,
   "metadata": {},
   "outputs": [],
   "source": [
    "data_keys = ['base_left_marker_pose',\n",
    "             'base_right_marker_pose',\n",
    "             'wrist_inside_marker_pose',\n",
    "             'wrist_top_marker_pose',\n",
    "             'shoulder_marker_pose']\n",
    "\n",
    "def get_dict(filename):\n",
    "    with open(filename,'r') as file:\n",
    "        data = yaml.safe_load(file)\n",
    "    return data\n",
    "\n",
    "def get_avg_pos_vals(data):\n",
    "    avg_pose_sums = {}\n",
    "    null_cnt = {}\n",
    "    for key in data_keys:\n",
    "        avg_pose_sums[key] = np.zeros(3)\n",
    "        null_cnt[key] = 0\n",
    "    for d in data:\n",
    "        for key in data_keys:\n",
    "            m = np.array(d['camera_measurements'][key])\n",
    "            try:\n",
    "                pose = m[:3,3]\n",
    "                avg_pose_sums[key] = avg_pose_sums[key] + pose\n",
    "            except:\n",
    "                null_cnt[key] = null_cnt[key] + 1\n",
    "    for key in data_keys:\n",
    "        avg_pose_sums[key] = avg_pose_sums[key]/(len(data)-null_cnt[key])\n",
    "    return avg_pose_sums\n",
    "\n",
    "def euclidean_error(r1, r2):\n",
    "    dist = np.linalg.norm(r1[:3, 3] - r2[:3, 3])\n",
    "    return float(dist)"
   ]
  },
  {
   "cell_type": "code",
   "execution_count": 18,
   "metadata": {},
   "outputs": [],
   "source": [
    "data = get_dict(filename)"
   ]
  },
  {
   "cell_type": "code",
   "execution_count": 19,
   "metadata": {},
   "outputs": [
    {
     "data": {
      "text/plain": [
       "{'base_left_marker_pose': array([ 0.01560918, -0.03676896,  0.97180282]),\n",
       " 'base_right_marker_pose': array([ 0.08429622, -0.03563762,  0.9740998 ]),\n",
       " 'shoulder_marker_pose': array([ 0.09266814, -0.09151441,  0.97548074]),\n",
       " 'wrist_inside_marker_pose': array([ 0.00508762, -0.09562531,  0.97365567]),\n",
       " 'wrist_top_marker_pose': array([ 0.0466689 , -0.09545316,  0.97414828])}"
      ]
     },
     "execution_count": 19,
     "metadata": {},
     "output_type": "execute_result"
    }
   ],
   "source": [
    "get_avg_pos_vals(data)"
   ]
  },
  {
   "cell_type": "code",
   "execution_count": 20,
   "metadata": {},
   "outputs": [
    {
     "data": {
      "text/plain": [
       "['shoulder_marker_pose',\n",
       " 'd435i_acceleration',\n",
       " 'wrist_inside_marker_pose',\n",
       " 'wrist_top_marker_pose',\n",
       " 'base_right_marker_pose',\n",
       " 'base_left_marker_pose']"
      ]
     },
     "execution_count": 20,
     "metadata": {},
     "output_type": "execute_result"
    }
   ],
   "source": [
    "data[0]['camera_measurements'].keys()"
   ]
  },
  {
   "cell_type": "code",
   "execution_count": 21,
   "metadata": {},
   "outputs": [
    {
     "data": {
      "text/plain": [
       "array([[ 0.99847575, -0.00292909, -0.05511444,  0.01565563],\n",
       "       [-0.00900108, -0.99386336, -0.11024792, -0.03676937],\n",
       "       [-0.05445329,  0.11057596, -0.99237483,  0.97191084],\n",
       "       [ 0.        ,  0.        ,  0.        ,  1.        ]])"
      ]
     },
     "execution_count": 21,
     "metadata": {},
     "output_type": "execute_result"
    }
   ],
   "source": [
    "m = np.array(data[0]['camera_measurements'][data_keys[0]])\n",
    "m"
   ]
  },
  {
   "cell_type": "code",
   "execution_count": null,
   "metadata": {},
   "outputs": [],
   "source": [
    "nominal_poses = get_dict()"
   ]
  },
  {
   "cell_type": "code",
   "execution_count": 22,
   "metadata": {},
   "outputs": [
    {
     "data": {
      "text/plain": [
       "0.0"
      ]
     },
     "execution_count": 22,
     "metadata": {},
     "output_type": "execute_result"
    }
   ],
   "source": [
    "euclidean_error(m,m)"
   ]
  },
  {
   "cell_type": "code",
   "execution_count": null,
   "metadata": {},
   "outputs": [],
   "source": []
  }
 ],
 "metadata": {
  "kernelspec": {
   "display_name": "Python 2",
   "language": "python",
   "name": "python2"
  },
  "language_info": {
   "codemirror_mode": {
    "name": "ipython",
    "version": 2
   },
   "file_extension": ".py",
   "mimetype": "text/x-python",
   "name": "python",
   "nbconvert_exporter": "python",
   "pygments_lexer": "ipython2",
   "version": "2.7.17"
  }
 },
 "nbformat": 4,
 "nbformat_minor": 2
}
