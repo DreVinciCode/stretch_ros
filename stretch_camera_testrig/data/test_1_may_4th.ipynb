{
 "cells": [
  {
   "cell_type": "code",
   "execution_count": 6,
   "metadata": {},
   "outputs": [],
   "source": [
    "import yaml\n",
    "import numpy as np\n",
    "import pandas as pd\n",
    "import math\n",
    "import os"
   ]
  },
  {
   "cell_type": "code",
   "execution_count": 7,
   "metadata": {},
   "outputs": [],
   "source": [
    "data_keys = ['base_left_marker_pose',\n",
    "             'base_right_marker_pose',\n",
    "             'wrist_inside_marker_pose',\n",
    "             'wrist_top_marker_pose',\n",
    "             'shoulder_marker_pose']\n",
    "\n",
    "error_keys = ['euclidean_error','angle_rotation']\n",
    "\n",
    "metric_keys = ['maximum','mean','median','rmse']\n",
    "\n",
    "def get_dict(filename):\n",
    "    with open(filename,'r') as file:\n",
    "        data = yaml.safe_load(file)\n",
    "    return data\n",
    "\n",
    "def show_results(results_files_dict,error_key,data_metric):\n",
    "    camera_keys = results_files_dict.keys()\n",
    "    dataframe = pd.DataFrame(columns=camera_keys,index=data_keys)\n",
    "    \n",
    "    for c_key in camera_keys:\n",
    "        d = []\n",
    "        data_dict = get_dict('results/'+results_files_dict[c_key])\n",
    "        for key in data_keys:\n",
    "            val = data_dict['performance_metrics'][error_key][key][data_metric]\n",
    "            d.append(val)\n",
    "        dataframe[c_key] = d\n",
    "    return dataframe"
   ]
  },
  {
   "cell_type": "code",
   "execution_count": 8,
   "metadata": {},
   "outputs": [],
   "source": [
    "setup_1_results_files = {'best_camera':'testrig_results_134322070297_202205041625.yaml',\n",
    "                   'good_camera':'testrig_results_134322074170_202205041641.yaml',\n",
    "                   'worst_camera':'testrig_results_040322072690_202205041646.yaml'}"
   ]
  },
  {
   "cell_type": "code",
   "execution_count": 9,
   "metadata": {},
   "outputs": [],
   "source": [
    "setup_2_results_files = {'best_camera':'testrig_results_134322070297_202205041631.yaml',\n",
    "                   'good_camera':'testrig_results_134322074170_202205041637.yaml',\n",
    "                   'worst_camera':'testrig_results_040322072690_202205041652.yaml'}"
   ]
  },
  {
   "cell_type": "markdown",
   "metadata": {},
   "source": [
    "## Setup 1 Results "
   ]
  },
  {
   "cell_type": "code",
   "execution_count": 14,
   "metadata": {},
   "outputs": [
    {
     "name": "stdout",
     "output_type": "stream",
     "text": [
      "Euclidean Error - Mean (meter)\n"
     ]
    },
    {
     "data": {
      "text/html": [
       "<div>\n",
       "<style scoped>\n",
       "    .dataframe tbody tr th:only-of-type {\n",
       "        vertical-align: middle;\n",
       "    }\n",
       "\n",
       "    .dataframe tbody tr th {\n",
       "        vertical-align: top;\n",
       "    }\n",
       "\n",
       "    .dataframe thead th {\n",
       "        text-align: right;\n",
       "    }\n",
       "</style>\n",
       "<table border=\"1\" class=\"dataframe\">\n",
       "  <thead>\n",
       "    <tr style=\"text-align: right;\">\n",
       "      <th></th>\n",
       "      <th>good_camera</th>\n",
       "      <th>worst_camera</th>\n",
       "      <th>best_camera</th>\n",
       "    </tr>\n",
       "  </thead>\n",
       "  <tbody>\n",
       "    <tr>\n",
       "      <th>base_left_marker_pose</th>\n",
       "      <td>-0.003995</td>\n",
       "      <td>0.020784</td>\n",
       "      <td>-0.007855</td>\n",
       "    </tr>\n",
       "    <tr>\n",
       "      <th>base_right_marker_pose</th>\n",
       "      <td>-0.004145</td>\n",
       "      <td>0.025193</td>\n",
       "      <td>-0.007220</td>\n",
       "    </tr>\n",
       "    <tr>\n",
       "      <th>wrist_inside_marker_pose</th>\n",
       "      <td>-0.003563</td>\n",
       "      <td>0.022897</td>\n",
       "      <td>-0.006134</td>\n",
       "    </tr>\n",
       "    <tr>\n",
       "      <th>wrist_top_marker_pose</th>\n",
       "      <td>-0.004659</td>\n",
       "      <td>0.024258</td>\n",
       "      <td>-0.009625</td>\n",
       "    </tr>\n",
       "    <tr>\n",
       "      <th>shoulder_marker_pose</th>\n",
       "      <td>-0.002836</td>\n",
       "      <td>0.026138</td>\n",
       "      <td>-0.008083</td>\n",
       "    </tr>\n",
       "  </tbody>\n",
       "</table>\n",
       "</div>"
      ],
      "text/plain": [
       "                          good_camera  worst_camera  best_camera\n",
       "base_left_marker_pose       -0.003995      0.020784    -0.007855\n",
       "base_right_marker_pose      -0.004145      0.025193    -0.007220\n",
       "wrist_inside_marker_pose    -0.003563      0.022897    -0.006134\n",
       "wrist_top_marker_pose       -0.004659      0.024258    -0.009625\n",
       "shoulder_marker_pose        -0.002836      0.026138    -0.008083"
      ]
     },
     "execution_count": 14,
     "metadata": {},
     "output_type": "execute_result"
    }
   ],
   "source": [
    "print('Euclidean Error - Mean (meter)')\n",
    "show_results(setup_1_results_files,'euclidean_error','mean')"
   ]
  },
  {
   "cell_type": "code",
   "execution_count": 15,
   "metadata": {},
   "outputs": [
    {
     "name": "stdout",
     "output_type": "stream",
     "text": [
      "Angle of Rotation - Mean (deg)\n"
     ]
    },
    {
     "data": {
      "text/html": [
       "<div>\n",
       "<style scoped>\n",
       "    .dataframe tbody tr th:only-of-type {\n",
       "        vertical-align: middle;\n",
       "    }\n",
       "\n",
       "    .dataframe tbody tr th {\n",
       "        vertical-align: top;\n",
       "    }\n",
       "\n",
       "    .dataframe thead th {\n",
       "        text-align: right;\n",
       "    }\n",
       "</style>\n",
       "<table border=\"1\" class=\"dataframe\">\n",
       "  <thead>\n",
       "    <tr style=\"text-align: right;\">\n",
       "      <th></th>\n",
       "      <th>good_camera</th>\n",
       "      <th>worst_camera</th>\n",
       "      <th>best_camera</th>\n",
       "    </tr>\n",
       "  </thead>\n",
       "  <tbody>\n",
       "    <tr>\n",
       "      <th>base_left_marker_pose</th>\n",
       "      <td>1.956215</td>\n",
       "      <td>3.240613</td>\n",
       "      <td>1.160388</td>\n",
       "    </tr>\n",
       "    <tr>\n",
       "      <th>base_right_marker_pose</th>\n",
       "      <td>5.417145</td>\n",
       "      <td>2.448800</td>\n",
       "      <td>3.002019</td>\n",
       "    </tr>\n",
       "    <tr>\n",
       "      <th>wrist_inside_marker_pose</th>\n",
       "      <td>8.321177</td>\n",
       "      <td>4.674011</td>\n",
       "      <td>17.590342</td>\n",
       "    </tr>\n",
       "    <tr>\n",
       "      <th>wrist_top_marker_pose</th>\n",
       "      <td>3.216156</td>\n",
       "      <td>2.505102</td>\n",
       "      <td>3.488935</td>\n",
       "    </tr>\n",
       "    <tr>\n",
       "      <th>shoulder_marker_pose</th>\n",
       "      <td>4.724608</td>\n",
       "      <td>2.027699</td>\n",
       "      <td>2.841806</td>\n",
       "    </tr>\n",
       "  </tbody>\n",
       "</table>\n",
       "</div>"
      ],
      "text/plain": [
       "                          good_camera  worst_camera  best_camera\n",
       "base_left_marker_pose        1.956215      3.240613     1.160388\n",
       "base_right_marker_pose       5.417145      2.448800     3.002019\n",
       "wrist_inside_marker_pose     8.321177      4.674011    17.590342\n",
       "wrist_top_marker_pose        3.216156      2.505102     3.488935\n",
       "shoulder_marker_pose         4.724608      2.027699     2.841806"
      ]
     },
     "execution_count": 15,
     "metadata": {},
     "output_type": "execute_result"
    }
   ],
   "source": [
    "print('Angle of Rotation - Mean (deg)')\n",
    "show_results(setup_1_results_files,'angle_rotation','mean')"
   ]
  },
  {
   "cell_type": "markdown",
   "metadata": {},
   "source": [
    "## Setup 2 Results "
   ]
  },
  {
   "cell_type": "code",
   "execution_count": 16,
   "metadata": {},
   "outputs": [
    {
     "name": "stdout",
     "output_type": "stream",
     "text": [
      "Euclidean Error - Mean (meter)\n"
     ]
    },
    {
     "data": {
      "text/html": [
       "<div>\n",
       "<style scoped>\n",
       "    .dataframe tbody tr th:only-of-type {\n",
       "        vertical-align: middle;\n",
       "    }\n",
       "\n",
       "    .dataframe tbody tr th {\n",
       "        vertical-align: top;\n",
       "    }\n",
       "\n",
       "    .dataframe thead th {\n",
       "        text-align: right;\n",
       "    }\n",
       "</style>\n",
       "<table border=\"1\" class=\"dataframe\">\n",
       "  <thead>\n",
       "    <tr style=\"text-align: right;\">\n",
       "      <th></th>\n",
       "      <th>good_camera</th>\n",
       "      <th>worst_camera</th>\n",
       "      <th>best_camera</th>\n",
       "    </tr>\n",
       "  </thead>\n",
       "  <tbody>\n",
       "    <tr>\n",
       "      <th>base_left_marker_pose</th>\n",
       "      <td>-0.007037</td>\n",
       "      <td>0.000357</td>\n",
       "      <td>-0.010742</td>\n",
       "    </tr>\n",
       "    <tr>\n",
       "      <th>base_right_marker_pose</th>\n",
       "      <td>-0.005531</td>\n",
       "      <td>0.009769</td>\n",
       "      <td>-0.010678</td>\n",
       "    </tr>\n",
       "    <tr>\n",
       "      <th>wrist_inside_marker_pose</th>\n",
       "      <td>-0.007070</td>\n",
       "      <td>0.002400</td>\n",
       "      <td>-0.012359</td>\n",
       "    </tr>\n",
       "    <tr>\n",
       "      <th>wrist_top_marker_pose</th>\n",
       "      <td>-0.007265</td>\n",
       "      <td>0.005214</td>\n",
       "      <td>-0.012973</td>\n",
       "    </tr>\n",
       "    <tr>\n",
       "      <th>shoulder_marker_pose</th>\n",
       "      <td>-0.005983</td>\n",
       "      <td>0.013324</td>\n",
       "      <td>-0.008701</td>\n",
       "    </tr>\n",
       "  </tbody>\n",
       "</table>\n",
       "</div>"
      ],
      "text/plain": [
       "                          good_camera  worst_camera  best_camera\n",
       "base_left_marker_pose       -0.007037      0.000357    -0.010742\n",
       "base_right_marker_pose      -0.005531      0.009769    -0.010678\n",
       "wrist_inside_marker_pose    -0.007070      0.002400    -0.012359\n",
       "wrist_top_marker_pose       -0.007265      0.005214    -0.012973\n",
       "shoulder_marker_pose        -0.005983      0.013324    -0.008701"
      ]
     },
     "execution_count": 16,
     "metadata": {},
     "output_type": "execute_result"
    }
   ],
   "source": [
    "print('Euclidean Error - Mean (meter)')\n",
    "show_results(setup_2_results_files,'euclidean_error','mean')"
   ]
  },
  {
   "cell_type": "code",
   "execution_count": 17,
   "metadata": {},
   "outputs": [
    {
     "name": "stdout",
     "output_type": "stream",
     "text": [
      "Angle of Rotation - Mean (deg)\n"
     ]
    },
    {
     "data": {
      "text/html": [
       "<div>\n",
       "<style scoped>\n",
       "    .dataframe tbody tr th:only-of-type {\n",
       "        vertical-align: middle;\n",
       "    }\n",
       "\n",
       "    .dataframe tbody tr th {\n",
       "        vertical-align: top;\n",
       "    }\n",
       "\n",
       "    .dataframe thead th {\n",
       "        text-align: right;\n",
       "    }\n",
       "</style>\n",
       "<table border=\"1\" class=\"dataframe\">\n",
       "  <thead>\n",
       "    <tr style=\"text-align: right;\">\n",
       "      <th></th>\n",
       "      <th>good_camera</th>\n",
       "      <th>worst_camera</th>\n",
       "      <th>best_camera</th>\n",
       "    </tr>\n",
       "  </thead>\n",
       "  <tbody>\n",
       "    <tr>\n",
       "      <th>base_left_marker_pose</th>\n",
       "      <td>1.501661</td>\n",
       "      <td>3.204669</td>\n",
       "      <td>2.723923</td>\n",
       "    </tr>\n",
       "    <tr>\n",
       "      <th>base_right_marker_pose</th>\n",
       "      <td>2.640858</td>\n",
       "      <td>6.074600</td>\n",
       "      <td>2.083683</td>\n",
       "    </tr>\n",
       "    <tr>\n",
       "      <th>wrist_inside_marker_pose</th>\n",
       "      <td>8.446939</td>\n",
       "      <td>12.655896</td>\n",
       "      <td>9.863957</td>\n",
       "    </tr>\n",
       "    <tr>\n",
       "      <th>wrist_top_marker_pose</th>\n",
       "      <td>6.384107</td>\n",
       "      <td>14.954421</td>\n",
       "      <td>4.973555</td>\n",
       "    </tr>\n",
       "    <tr>\n",
       "      <th>shoulder_marker_pose</th>\n",
       "      <td>5.016365</td>\n",
       "      <td>17.482159</td>\n",
       "      <td>12.389354</td>\n",
       "    </tr>\n",
       "  </tbody>\n",
       "</table>\n",
       "</div>"
      ],
      "text/plain": [
       "                          good_camera  worst_camera  best_camera\n",
       "base_left_marker_pose        1.501661      3.204669     2.723923\n",
       "base_right_marker_pose       2.640858      6.074600     2.083683\n",
       "wrist_inside_marker_pose     8.446939     12.655896     9.863957\n",
       "wrist_top_marker_pose        6.384107     14.954421     4.973555\n",
       "shoulder_marker_pose         5.016365     17.482159    12.389354"
      ]
     },
     "execution_count": 17,
     "metadata": {},
     "output_type": "execute_result"
    }
   ],
   "source": [
    "print('Angle of Rotation - Mean (deg)')\n",
    "show_results(setup_2_results_files,'angle_rotation','mean')"
   ]
  }
 ],
 "metadata": {
  "kernelspec": {
   "display_name": "Python 3",
   "language": "python",
   "name": "python3"
  },
  "language_info": {
   "codemirror_mode": {
    "name": "ipython",
    "version": 2
   },
   "file_extension": ".py",
   "mimetype": "text/x-python",
   "name": "python",
   "nbconvert_exporter": "python",
   "pygments_lexer": "ipython2",
   "version": "2.7.17"
  }
 },
 "nbformat": 4,
 "nbformat_minor": 2
}
