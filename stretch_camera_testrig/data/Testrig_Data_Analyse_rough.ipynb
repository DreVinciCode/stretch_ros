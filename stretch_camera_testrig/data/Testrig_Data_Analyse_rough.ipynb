{
 "cells": [
  {
   "cell_type": "code",
   "execution_count": 30,
   "metadata": {},
   "outputs": [],
   "source": [
    "import yaml\n",
    "import numpy as np\n",
    "import pandas as pd\n",
    "import math"
   ]
  },
  {
   "cell_type": "code",
   "execution_count": 13,
   "metadata": {},
   "outputs": [],
   "source": [
    "filename = 'testrig_collected_data_202204271357.yaml'"
   ]
  },
  {
   "cell_type": "code",
   "execution_count": 49,
   "metadata": {},
   "outputs": [],
   "source": [
    "data_keys = ['base_left_marker_pose',\n",
    "             'base_right_marker_pose',\n",
    "             'wrist_inside_marker_pose',\n",
    "             'wrist_top_marker_pose',\n",
    "             'shoulder_marker_pose']\n",
    "\n",
    "def get_dict(filename):\n",
    "    with open(filename,'r') as file:\n",
    "        data = yaml.safe_load(file)\n",
    "    return data\n",
    "\n",
    "def get_avg_pos_vals(data):\n",
    "    avg_pose_sums = {}\n",
    "    null_cnt = {}\n",
    "    for key in data_keys:\n",
    "        avg_pose_sums[key] = np.zeros(3)\n",
    "        null_cnt[key] = 0\n",
    "    for d in data:\n",
    "        for key in data_keys:\n",
    "            m = np.array(d['camera_measurements'][key])\n",
    "            try:\n",
    "                pose = m[:3,3]\n",
    "                avg_pose_sums[key] = avg_pose_sums[key] + pose\n",
    "            except:\n",
    "                null_cnt[key] = null_cnt[key] + 1\n",
    "    for key in data_keys:\n",
    "        avg_pose_sums[key] = avg_pose_sums[key]/(len(data)-null_cnt[key])\n",
    "    return avg_pose_sums\n",
    "\n",
    "def euclidean_error(r1, r2):\n",
    "    p1 = r1[:3, 3]\n",
    "    p2 = r2[:3, 3]\n",
    "    dist1 = math.sqrt(math.pow(p1[0],2) + math.pow(p1[1],2) + math.pow(p1[2],2))\n",
    "    dist2 = math.sqrt(math.pow(p2[0],2) + math.pow(p2[1],2) + math.pow(p2[2],2))\n",
    "#     dist = np.linalg.norm(r1[:3, 3] - r2[:3, 3])\n",
    "    return float(abs(dist1-dist2))"
   ]
  },
  {
   "cell_type": "code",
   "execution_count": 50,
   "metadata": {},
   "outputs": [],
   "source": [
    "data = get_dict(filename)"
   ]
  },
  {
   "cell_type": "code",
   "execution_count": 51,
   "metadata": {},
   "outputs": [
    {
     "data": {
      "text/plain": [
       "{'base_left_marker_pose': array([ 0.01560918, -0.03676896,  0.97180282]),\n",
       " 'base_right_marker_pose': array([ 0.08429622, -0.03563762,  0.9740998 ]),\n",
       " 'shoulder_marker_pose': array([ 0.09266814, -0.09151441,  0.97548074]),\n",
       " 'wrist_inside_marker_pose': array([ 0.00508762, -0.09562531,  0.97365567]),\n",
       " 'wrist_top_marker_pose': array([ 0.0466689 , -0.09545316,  0.97414828])}"
      ]
     },
     "execution_count": 51,
     "metadata": {},
     "output_type": "execute_result"
    }
   ],
   "source": [
    "get_avg_pos_vals(data)"
   ]
  },
  {
   "cell_type": "code",
   "execution_count": 52,
   "metadata": {},
   "outputs": [
    {
     "data": {
      "text/plain": [
       "['shoulder_marker_pose',\n",
       " 'd435i_acceleration',\n",
       " 'wrist_inside_marker_pose',\n",
       " 'wrist_top_marker_pose',\n",
       " 'base_right_marker_pose',\n",
       " 'base_left_marker_pose']"
      ]
     },
     "execution_count": 52,
     "metadata": {},
     "output_type": "execute_result"
    }
   ],
   "source": [
    "data[0]['camera_measurements'].keys()"
   ]
  },
  {
   "cell_type": "code",
   "execution_count": 53,
   "metadata": {},
   "outputs": [
    {
     "data": {
      "text/plain": [
       "array([[ 0.99847575, -0.00292909, -0.05511444,  0.01565563],\n",
       "       [-0.00900108, -0.99386336, -0.11024792, -0.03676937],\n",
       "       [-0.05445329,  0.11057596, -0.99237483,  0.97191084],\n",
       "       [ 0.        ,  0.        ,  0.        ,  1.        ]])"
      ]
     },
     "execution_count": 53,
     "metadata": {},
     "output_type": "execute_result"
    }
   ],
   "source": [
    "m = np.array(data[0]['camera_measurements'][data_keys[0]])\n",
    "m"
   ]
  },
  {
   "cell_type": "code",
   "execution_count": 54,
   "metadata": {},
   "outputs": [],
   "source": [
    "nominal_poses = get_dict('testrig_marker_info.yaml')"
   ]
  },
  {
   "cell_type": "code",
   "execution_count": 55,
   "metadata": {},
   "outputs": [
    {
     "data": {
      "text/plain": [
       "array([[ 1.     ,  0.     ,  0.     ,  0.009  ],\n",
       "       [ 0.     , -1.     ,  0.     , -0.06418],\n",
       "       [ 0.     ,  0.     , -1.     ,  0.97551],\n",
       "       [ 0.     ,  0.     ,  0.     ,  1.     ]])"
      ]
     },
     "execution_count": 55,
     "metadata": {},
     "output_type": "execute_result"
    }
   ],
   "source": [
    "mn = nominal_poses['testrig_aruco_marker_info'][data_keys[0]]\n",
    "mn = np.array(mn)\n",
    "mn"
   ]
  },
  {
   "cell_type": "code",
   "execution_count": 56,
   "metadata": {},
   "outputs": [
    {
     "data": {
      "text/plain": [
       "0.004928270424978343"
      ]
     },
     "execution_count": 56,
     "metadata": {},
     "output_type": "execute_result"
    }
   ],
   "source": [
    "euclidean_error(m,mn)"
   ]
  },
  {
   "cell_type": "code",
   "execution_count": null,
   "metadata": {},
   "outputs": [],
   "source": []
  }
 ],
 "metadata": {
  "kernelspec": {
   "display_name": "Python 2",
   "language": "python",
   "name": "python2"
  },
  "language_info": {
   "codemirror_mode": {
    "name": "ipython",
    "version": 2
   },
   "file_extension": ".py",
   "mimetype": "text/x-python",
   "name": "python",
   "nbconvert_exporter": "python",
   "pygments_lexer": "ipython2",
   "version": "2.7.17"
  }
 },
 "nbformat": 4,
 "nbformat_minor": 2
}
