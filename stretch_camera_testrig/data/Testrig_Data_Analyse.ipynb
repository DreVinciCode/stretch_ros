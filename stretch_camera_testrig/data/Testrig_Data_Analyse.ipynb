{
 "cells": [
  {
   "cell_type": "code",
   "execution_count": 36,
   "metadata": {},
   "outputs": [],
   "source": [
    "import yaml\n",
    "import numpy as np\n",
    "import pandas as pd"
   ]
  },
  {
   "cell_type": "code",
   "execution_count": 37,
   "metadata": {},
   "outputs": [],
   "source": [
    "filename = 'testrig_collected_data_202204261559.yaml'"
   ]
  },
  {
   "cell_type": "code",
   "execution_count": 56,
   "metadata": {},
   "outputs": [],
   "source": [
    "data_keys = ['base_left_marker_pose',\n",
    "             'base_right_marker_pose',\n",
    "             'wrist_inside_marker_pose',\n",
    "             'wrist_top_marker_pose',\n",
    "             'shoulder_marker_pose']\n",
    "\n",
    "def get_dict(filename):\n",
    "    with open(filename,'r') as file:\n",
    "        data = yaml.safe_load(file)\n",
    "    return data\n",
    "\n",
    "def get_avg_pos_vals(data):\n",
    "    avg_pose_sums = {}\n",
    "    null_cnt = {}\n",
    "    for key in data_keys:\n",
    "        avg_pose_sums[key] = np.zeros(3)\n",
    "        null_cnt[key] = 0\n",
    "    for d in data:\n",
    "        for key in data_keys:\n",
    "            m = np.array(d['camera_measurements'][key])\n",
    "            try:\n",
    "                pose = m[:3,3]\n",
    "                avg_pose_sums[key] = avg_pose_sums[key] + pose\n",
    "            except:\n",
    "                null_cnt[key] = null_cnt[key] + 1\n",
    "    for key in data_keys:\n",
    "        avg_pose_sums[key] = avg_pose_sums[key]/(len(data)-null_cnt[key])\n",
    "    return avg_pose_sums"
   ]
  },
  {
   "cell_type": "code",
   "execution_count": 57,
   "metadata": {},
   "outputs": [],
   "source": [
    "data = get_dict(filename)"
   ]
  },
  {
   "cell_type": "code",
   "execution_count": 58,
   "metadata": {},
   "outputs": [
    {
     "data": {
      "text/plain": [
       "{'base_left_marker_pose': array([ 0.0239215, -0.0345387,  0.9687601]),\n",
       " 'base_right_marker_pose': array([ 0.09184391, -0.03379975,  0.96848354]),\n",
       " 'shoulder_marker_pose': array([ 0.09992021, -0.08972844,  0.97250558]),\n",
       " 'wrist_inside_marker_pose': array([ 0.01281881, -0.09311278,  0.97060522]),\n",
       " 'wrist_top_marker_pose': array([ 0.05436245, -0.09324136,  0.97268975])}"
      ]
     },
     "execution_count": 58,
     "metadata": {},
     "output_type": "execute_result"
    }
   ],
   "source": [
    "get_avg_pos_vals(data)"
   ]
  },
  {
   "cell_type": "code",
   "execution_count": 30,
   "metadata": {},
   "outputs": [
    {
     "data": {
      "text/plain": [
       "['shoulder_marker_pose',\n",
       " 'd435i_acceleration',\n",
       " 'wrist_inside_marker_pose',\n",
       " 'wrist_top_marker_pose',\n",
       " 'base_right_marker_pose',\n",
       " 'base_left_marker_pose']"
      ]
     },
     "execution_count": 30,
     "metadata": {},
     "output_type": "execute_result"
    }
   ],
   "source": [
    "data[0]['camera_measurements'].keys()"
   ]
  },
  {
   "cell_type": "code",
   "execution_count": 31,
   "metadata": {},
   "outputs": [
    {
     "data": {
      "text/plain": [
       "array([[ 0.99989452, -0.01255395, -0.00730402,  0.0239161 ],\n",
       "       [-0.01277629, -0.99943037, -0.03123614, -0.03452451],\n",
       "       [-0.00690772,  0.03132616, -0.99948535,  0.96807451],\n",
       "       [ 0.        ,  0.        ,  0.        ,  1.        ]])"
      ]
     },
     "execution_count": 31,
     "metadata": {},
     "output_type": "execute_result"
    }
   ],
   "source": [
    "m = np.array(data[0]['camera_measurements'][data_keys[0]])\n",
    "m"
   ]
  },
  {
   "cell_type": "code",
   "execution_count": 32,
   "metadata": {},
   "outputs": [
    {
     "data": {
      "text/plain": [
       "array([ 0.0239161 , -0.03452451,  0.96807451])"
      ]
     },
     "execution_count": 32,
     "metadata": {},
     "output_type": "execute_result"
    }
   ],
   "source": [
    "m = np.array(m)[:3,3]\n",
    "m"
   ]
  },
  {
   "cell_type": "code",
   "execution_count": 33,
   "metadata": {},
   "outputs": [
    {
     "data": {
      "text/plain": [
       "(3,)"
      ]
     },
     "execution_count": 33,
     "metadata": {},
     "output_type": "execute_result"
    }
   ],
   "source": [
    "m.shape"
   ]
  },
  {
   "cell_type": "code",
   "execution_count": 35,
   "metadata": {},
   "outputs": [
    {
     "data": {
      "text/plain": [
       "(3,)"
      ]
     },
     "execution_count": 35,
     "metadata": {},
     "output_type": "execute_result"
    }
   ],
   "source": [
    "np.zeros(3).shape"
   ]
  },
  {
   "cell_type": "code",
   "execution_count": null,
   "metadata": {},
   "outputs": [],
   "source": []
  }
 ],
 "metadata": {
  "kernelspec": {
   "display_name": "Python 2",
   "language": "python",
   "name": "python2"
  },
  "language_info": {
   "codemirror_mode": {
    "name": "ipython",
    "version": 2
   },
   "file_extension": ".py",
   "mimetype": "text/x-python",
   "name": "python",
   "nbconvert_exporter": "python",
   "pygments_lexer": "ipython2",
   "version": "2.7.17"
  }
 },
 "nbformat": 4,
 "nbformat_minor": 2
}
